{
 "cells": [
  {
   "cell_type": "code",
   "execution_count": 1,
   "metadata": {},
   "outputs": [],
   "source": [
    "import nltk\n",
    "import os\n",
    "import re\n",
    "import sklearn\n",
    "import pandas as pd\n",
    "import numpy as np\n",
    "from nltk.tokenize import word_tokenize\n",
    "from nltk.corpus import stopwords\n",
    "from sklearn.feature_extraction.text import TfidfVectorizer\n",
    "from sklearn.feature_selection import chi2,SelectKBest\n",
    "from sklearn.linear_model import LogisticRegression\n",
    "from sklearn.metrics import confusion_matrix,classification_report"
   ]
  },
  {
   "cell_type": "code",
   "execution_count": 6,
   "metadata": {},
   "outputs": [],
   "source": [
    "def preprocess(line):\n",
    "    line = re.sub('[^\\w\\s]',\" \",str(line))\n",
    "    line = re.sub('[^a-zA-Z]',\" \",str(line))\n",
    "    _line = word_tokenize(line)\n",
    "    final = \" \"\n",
    "    for i in range(len(_line)):\n",
    "        if(_line[i].lower() not in stopwords.words('english')):\n",
    "            final+=_line[i].lower()+\" \"\n",
    "    return final"
   ]
  },
  {
   "cell_type": "code",
   "execution_count": 7,
   "metadata": {},
   "outputs": [
    {
     "name": "stdout",
     "output_type": "stream",
     "text": [
      "Source Domain: Books\n",
      "number of positive reviews =  1000\n",
      "number of negative reviews =  1000\n"
     ]
    }
   ],
   "source": [
    "## Source Domain: Books\n",
    "print(\"Source Domain: Books\")\n",
    "\n",
    "## reading positive reviews\n",
    "with open('books/positive.review','r',encoding='utf-8') as f:\n",
    "    source_pos = f.readlines()\n",
    "\n",
    "## cleaning data\n",
    "for i in range(0,len(source_pos)):\n",
    "    source_pos[i] = re.sub(r'\\d+', '', source_pos[i])\n",
    "    source_pos[i] = source_pos[i].replace(' #label#:positive\\n', '')\n",
    "    source_pos[i] = preprocess(source_pos[i])\n",
    "print(\"number of positive reviews = \", len(source_pos))\n",
    "\n",
    "## reading negative reviews\n",
    "with open('books/negative.review','r',encoding='utf-8') as f:\n",
    "    source_neg = f.readlines()\n",
    "\n",
    "## cleaning data\n",
    "for i in range(0,len(source_neg)):\n",
    "    source_neg[i] = re.sub(r'\\d+', '', source_neg[i])\n",
    "    source_neg[i] = source_neg[i].replace(' #label#:negative\\n', '')\n",
    "    source_neg[i] = preprocess(source_neg[i])\n",
    "print(\"number of negative reviews = \", len(source_neg))"
   ]
  },
  {
   "cell_type": "code",
   "execution_count": 8,
   "metadata": {},
   "outputs": [
    {
     "name": "stdout",
     "output_type": "stream",
     "text": [
      "source domain training set vector:  (2000, 4500)\n"
     ]
    }
   ],
   "source": [
    "## source domain training set\n",
    "source_X_train = source_pos + source_neg\n",
    "source_y_train = np.zeros(2000)\n",
    "source_y_train[0:1000] = 1\n",
    "\n",
    "## vectorizing the source domain training set\n",
    "vectorizer = TfidfVectorizer(min_df = 2,max_df=0.8,use_idf=True,sublinear_tf=True,stop_words='english')\n",
    "vectorizer_chi2 = SelectKBest(chi2,k=4500)\n",
    "source_vector_X_train = vectorizer.fit_transform(source_X_train)\n",
    "source_vector_X_train = vectorizer_chi2.fit_transform(source_vector_X_train,source_y_train)\n",
    "print(\"source domain training set vector: \", source_vector_X_train.shape)"
   ]
  },
  {
   "cell_type": "code",
   "execution_count": 9,
   "metadata": {},
   "outputs": [
    {
     "name": "stdout",
     "output_type": "stream",
     "text": [
      "Target Domain: Electronics\n",
      "number of positive reviews =  1000\n",
      "number of negative reviews =  1000\n"
     ]
    }
   ],
   "source": [
    "## Target Domain: Electronics\n",
    "print(\"Target Domain: Electronics\")\n",
    "\n",
    "## reading positive reviews\n",
    "with open('electronics/positive.review','r',encoding='utf-8') as f:\n",
    "    target_pos = f.readlines()\n",
    "\n",
    "## cleaning data\n",
    "for i in range(0,len(target_pos)):\n",
    "    target_pos[i] = re.sub(r'\\d+', '', target_pos[i])\n",
    "    target_pos[i] = target_pos[i].replace(' #label#:positive\\n', '').replace(':', '').replace('_', ' ')\n",
    "    target_pos[i] = ' '.join(target_pos[i].split())\n",
    "print(\"number of positive reviews = \", len(target_pos))\n",
    "\n",
    "## reading negative reviews\n",
    "with open('electronics/negative.review','r',encoding='utf-8') as f:\n",
    "    target_neg = f.readlines()\n",
    "    \n",
    "## cleaning data\n",
    "for i in range(0,len(target_neg)):\n",
    "    target_neg[i] = re.sub(r'\\d+', '', target_neg[i])\n",
    "    target_neg[i] = target_neg[i].replace(' #label#:negative\\n', '').replace(':', '').replace('_', ' ')\n",
    "    target_neg[i] = ' '.join(target_neg[i].split())\n",
    "print(\"number of negative reviews = \", len(target_neg))"
   ]
  },
  {
   "cell_type": "code",
   "execution_count": 10,
   "metadata": {},
   "outputs": [
    {
     "name": "stdout",
     "output_type": "stream",
     "text": [
      "target domain training set vector:  (1600, 4500)\n",
      "target domain test set vector:  (400, 4500)\n"
     ]
    }
   ],
   "source": [
    "## target domain training and test sets\n",
    "target_X_train = target_pos[0:800] + target_neg[0:800]\n",
    "target_y_train = np.zeros(1600)\n",
    "target_y_train[0:800] = 1\n",
    "target_X_test = target_pos[800:1000] + target_neg[800:1000]\n",
    "target_y_test = np.zeros(400)\n",
    "target_y_test[0:200] = 1\n",
    "\n",
    "## vectorizing the target domain training and test sets\n",
    "target_vector_X_train = vectorizer.fit_transform(target_X_train)\n",
    "target_vector_X_train = vectorizer_chi2.fit_transform(target_vector_X_train,target_y_train)\n",
    "print(\"target domain training set vector: \", target_vector_X_train.shape)\n",
    "target_vector_X_test = vectorizer.transform(target_X_test)\n",
    "target_vector_X_test = vectorizer_chi2.transform(target_vector_X_test)\n",
    "print(\"target domain test set vector: \", target_vector_X_test.shape)"
   ]
  },
  {
   "cell_type": "code",
   "execution_count": 11,
   "metadata": {},
   "outputs": [
    {
     "name": "stdout",
     "output_type": "stream",
     "text": [
      "Cross-domain Transfer Accuracy:  0.485\n",
      "\n",
      "Confusion Matrix:\n",
      " [[ 92 108]\n",
      " [ 98 102]]\n",
      "\n",
      "Evaluation: \n",
      "0: negative \n",
      "1: positive\n",
      "               precision    recall  f1-score   support\n",
      "\n",
      "         0.0       0.48      0.46      0.47       200\n",
      "         1.0       0.49      0.51      0.50       200\n",
      "\n",
      "    accuracy                           0.48       400\n",
      "   macro avg       0.48      0.48      0.48       400\n",
      "weighted avg       0.48      0.48      0.48       400\n",
      "\n"
     ]
    },
    {
     "name": "stderr",
     "output_type": "stream",
     "text": [
      "C:\\Program Files (x86)\\Microsoft Visual Studio\\Shared\\Anaconda3_64\\lib\\site-packages\\sklearn\\linear_model\\logistic.py:432: FutureWarning: Default solver will be changed to 'lbfgs' in 0.22. Specify a solver to silence this warning.\n",
      "  FutureWarning)\n"
     ]
    }
   ],
   "source": [
    "## Training a logistic regression classifier on the source domain training set\n",
    "lr_model = LogisticRegression(penalty=\"l2\", C=1.0)\n",
    "lr_model.fit(source_vector_X_train, source_y_train)\n",
    "\n",
    "## Evaluating it on the target domain test set\n",
    "lr_pred = lr_model.predict(target_vector_X_test)\n",
    "cross_domain_transfer_accuracy = lr_model.score(target_vector_X_test, target_y_test)\n",
    "print(\"Cross-domain Transfer Accuracy: \", cross_domain_transfer_accuracy)\n",
    "print(\"\\nConfusion Matrix:\\n\", confusion_matrix(target_y_test,lr_pred))\n",
    "print(\"\\nEvaluation: \\n0: negative \\n1: positive\\n\", classification_report(target_y_test,lr_pred))"
   ]
  },
  {
   "cell_type": "code",
   "execution_count": 12,
   "metadata": {},
   "outputs": [
    {
     "name": "stdout",
     "output_type": "stream",
     "text": [
      "Direct Transfer Accuracy:  0.875\n",
      "\n",
      "Confusion Matrix:\n",
      " [[176  24]\n",
      " [ 26 174]]\n",
      "\n",
      "Evaluation: \n",
      "0: negative \n",
      "1: positive\n",
      "               precision    recall  f1-score   support\n",
      "\n",
      "         0.0       0.87      0.88      0.88       200\n",
      "         1.0       0.88      0.87      0.87       200\n",
      "\n",
      "    accuracy                           0.88       400\n",
      "   macro avg       0.88      0.88      0.87       400\n",
      "weighted avg       0.88      0.88      0.87       400\n",
      "\n"
     ]
    },
    {
     "name": "stderr",
     "output_type": "stream",
     "text": [
      "C:\\Program Files (x86)\\Microsoft Visual Studio\\Shared\\Anaconda3_64\\lib\\site-packages\\sklearn\\linear_model\\logistic.py:432: FutureWarning: Default solver will be changed to 'lbfgs' in 0.22. Specify a solver to silence this warning.\n",
      "  FutureWarning)\n"
     ]
    }
   ],
   "source": [
    "## Training a logistic regression classifier on the target domain training set\n",
    "lr_model = LogisticRegression(penalty=\"l2\", C=1.0)\n",
    "lr_model.fit(target_vector_X_train, target_y_train)\n",
    "\n",
    "## Evaluating it on the target domain test set\n",
    "lr_pred = lr_model.predict(target_vector_X_test)\n",
    "direct_transfer_accuracy = lr_model.score(target_vector_X_test, target_y_test)\n",
    "print(\"Direct Transfer Accuracy: \", direct_transfer_accuracy)\n",
    "print(\"\\nConfusion Matrix:\\n\", confusion_matrix(target_y_test,lr_pred))\n",
    "print(\"\\nEvaluation: \\n0: negative \\n1: positive\\n\", classification_report(target_y_test,lr_pred))"
   ]
  },
  {
   "cell_type": "code",
   "execution_count": 14,
   "metadata": {},
   "outputs": [
    {
     "name": "stdout",
     "output_type": "stream",
     "text": [
      "The transfer loss across domains =  0.39\n"
     ]
    }
   ],
   "source": [
    "loss = direct_transfer_accuracy - cross_domain_transfer_accuracy\n",
    "print(\"The transfer loss across domains = \", round(loss,4))"
   ]
  },
  {
   "cell_type": "code",
   "execution_count": null,
   "metadata": {},
   "outputs": [],
   "source": []
  }
 ],
 "metadata": {
  "kernelspec": {
   "display_name": "Python 3",
   "language": "python",
   "name": "python3"
  },
  "language_info": {
   "codemirror_mode": {
    "name": "ipython",
    "version": 3
   },
   "file_extension": ".py",
   "mimetype": "text/x-python",
   "name": "python",
   "nbconvert_exporter": "python",
   "pygments_lexer": "ipython3",
   "version": "3.6.5"
  }
 },
 "nbformat": 4,
 "nbformat_minor": 2
}
